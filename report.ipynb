{
 "cells": [
  {
   "cell_type": "markdown",
   "metadata": {},
   "source": [
    "# ĐỒ ÁN CUỐI KỲ MÔN LẬP TRÌNH SONG SONG"
   ]
  },
  {
   "attachments": {},
   "cell_type": "markdown",
   "metadata": {},
   "source": [
    "## Hàm xem ảnh trong notebook"
   ]
  },
  {
   "cell_type": "code",
   "execution_count": null,
   "metadata": {},
   "outputs": [],
   "source": [
    "# Đoạn code Python để hiển thị file ảnh pnm ở notebook\n",
    "# Ví dụ để hiển thị file \"img.pnm\", ở dòng cuối của code cell\n",
    "# bạn gõ (không cần dấu ! đằng trước): show_pnm('img.pnm')\n",
    "# LƯU Ý: bạn phải chạy cell này một lần thì mới gọi được hàm show_pnm\n",
    "from PIL import Image\n",
    "import numpy as np\n",
    "def show_pnm(file_name):\n",
    "  with open(file_name, 'r') as f:\n",
    "    vals = f.read().split()\n",
    "  w = int(vals[1])\n",
    "  h = int(vals[2])\n",
    "  if vals[0] == 'P2': # Grayscale\n",
    "    pixels = np.array(vals[4:], dtype=np.uint8).reshape((h, w))\n",
    "  elif vals[0] == 'P3': # RGB\n",
    "    pixels = np.array(vals[4:], dtype=np.uint8).reshape((h, w, 3))\n",
    "  else:\n",
    "    return None\n",
    "  \n",
    "  return Image.fromarray(pixels)\n",
    "\n",
    "# Đoạn code Python để hiển thị file chứa ma trận ở notebook\n",
    "# (một dòng của ma trận ứng với một dòng trong file, \n",
    "# các phần tử trên mỗi dòng được cách nhau bởi khoảng trắng) \n",
    "# Ví dụ để hiển thị file \"pixel_importance.txt\", ở dòng cuối của code cell\n",
    "# bạn gõ: show_matrix('pixel_important.txt')\n",
    "def show_matrix(matrix_file):\n",
    "  m = np.loadtxt(matrix_file)\n",
    "  m = m + m.min()\n",
    "  m = m / m.max()\n",
    "  m = m * 255\n",
    "  m = m.astype(np.uint8)\n",
    "  return Image.fromarray(m)"
   ]
  },
  {
   "attachments": {},
   "cell_type": "markdown",
   "metadata": {},
   "source": [
    "## 1. Mô tả ứng dụng"
   ]
  },
  {
   "cell_type": "code",
   "execution_count": null,
   "metadata": {},
   "outputs": [],
   "source": []
  },
  {
   "attachments": {},
   "cell_type": "markdown",
   "metadata": {},
   "source": [
    "## 2. Cài đặt tuần tự"
   ]
  },
  {
   "cell_type": "code",
   "execution_count": null,
   "metadata": {},
   "outputs": [],
   "source": []
  },
  {
   "attachments": {},
   "cell_type": "markdown",
   "metadata": {},
   "source": [
    "##  3. Cài đặt song song"
   ]
  },
  {
   "cell_type": "code",
   "execution_count": null,
   "metadata": {},
   "outputs": [],
   "source": []
  },
  {
   "attachments": {},
   "cell_type": "markdown",
   "metadata": {},
   "source": [
    "## 4. Cài đặt song song + tối ưu hóa "
   ]
  },
  {
   "cell_type": "code",
   "execution_count": null,
   "metadata": {},
   "outputs": [],
   "source": []
  },
  {
   "attachments": {},
   "cell_type": "markdown",
   "metadata": {},
   "source": [
    "## 5. Nhìn lại quá trình làm đồ án"
   ]
  },
  {
   "cell_type": "code",
   "execution_count": null,
   "metadata": {},
   "outputs": [],
   "source": []
  },
  {
   "attachments": {},
   "cell_type": "markdown",
   "metadata": {},
   "source": [
    "## 6. Tài liệu tham khảo"
   ]
  },
  {
   "cell_type": "markdown",
   "metadata": {},
   "source": []
  },
  {
   "cell_type": "code",
   "execution_count": null,
   "metadata": {},
   "outputs": [],
   "source": []
  },
  {
   "cell_type": "code",
   "execution_count": null,
   "metadata": {},
   "outputs": [],
   "source": []
  }
 ],
 "metadata": {
  "kernelspec": {
   "display_name": "min_ds-env",
   "language": "python",
   "name": "python3"
  },
  "language_info": {
   "name": "python",
   "version": "3.8.13 (default, Mar 28 2022, 06:59:08) [MSC v.1916 64 bit (AMD64)]"
  },
  "orig_nbformat": 4,
  "vscode": {
   "interpreter": {
    "hash": "efcb908ceb3cbaee0177e28d9c2a2b43dad4facf2b422e4e43acd108b3880a49"
   }
  }
 },
 "nbformat": 4,
 "nbformat_minor": 2
}
